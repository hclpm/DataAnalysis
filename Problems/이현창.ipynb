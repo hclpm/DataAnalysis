{
  "cells": [
    {
      "cell_type": "markdown",
      "id": "dO_lKzQq2XYK",
      "metadata": {
        "id": "dO_lKzQq2XYK"
      },
      "source": [
        "# 파일 - 다운로드(.ipynb 다운로드) 후 본인 작업폴더에 저장하고\n",
        "# 파일 이름은 본인이름.ipynb로 수정후 작성하고 제출하세요"
      ]
    },
    {
      "cell_type": "code",
      "execution_count": null,
      "id": "95830af2-1139-4656-bf76-9407eeb645e2",
      "metadata": {
        "id": "95830af2-1139-4656-bf76-9407eeb645e2"
      },
      "outputs": [
        {
          "ename": "",
          "evalue": "",
          "output_type": "error",
          "traceback": [
            "\u001b[1;31mFailed to start the Kernel. \n",
            "\u001b[1;31m0.00s - Debugger warning: It seems that frozen modules are being used, which may\n",
            "\u001b[1;31m0.00s - make the debugger miss breakpoints. Please pass -Xfrozen_modules=off\n",
            "\u001b[1;31m0.00s - to python to disable frozen modules.\n",
            "\u001b[1;31m0.00s - Note: Debugging will proceed. Set PYDEVD_DISABLE_FILE_VALIDATION=1 to disable this validation.\n",
            "\u001b[1;31mBad file descriptor (C:\\ci\\zeromq_1616055400030\\work\\src\\epoll.cpp:100). \n",
            "\u001b[1;31mView Jupyter <a href='command:jupyter.viewOutput'>log</a> for further details."
          ]
        }
      ],
      "source": [
        "import warnings\n",
        "warnings.filterwarnings('ignore')"
      ]
    },
    {
      "cell_type": "markdown",
      "id": "2d5aa5f8-3eeb-49b7-8c62-7a08fbb46acb",
      "metadata": {
        "id": "2d5aa5f8-3eeb-49b7-8c62-7a08fbb46acb"
      },
      "source": [
        "### 1. 202302_202302_주민등록인구및세대현황_월간.csv를 가지고 와서 'data'라는 이름의 데이터 프레임으로 작성하고 5개만 확인합니다."
      ]
    },
    {
      "cell_type": "code",
      "execution_count": null,
      "id": "ea4eb284-3914-4a97-bfda-6d1639d1dd57",
      "metadata": {
        "id": "ea4eb284-3914-4a97-bfda-6d1639d1dd57",
        "tags": []
      },
      "outputs": [
        {
          "ename": "",
          "evalue": "",
          "output_type": "error",
          "traceback": [
            "\u001b[1;31mFailed to start the Kernel. \n",
            "\u001b[1;31m0.00s - Debugger warning: It seems that frozen modules are being used, which may\n",
            "\u001b[1;31m0.00s - make the debugger miss breakpoints. Please pass -Xfrozen_modules=off\n",
            "\u001b[1;31m0.00s - to python to disable frozen modules.\n",
            "\u001b[1;31m0.00s - Note: Debugging will proceed. Set PYDEVD_DISABLE_FILE_VALIDATION=1 to disable this validation.\n",
            "\u001b[1;31mBad file descriptor (C:\\ci\\zeromq_1616055400030\\work\\src\\epoll.cpp:100). \n",
            "\u001b[1;31mView Jupyter <a href='command:jupyter.viewOutput'>log</a> for further details."
          ]
        }
      ],
      "source": [
        "import pandas as pd"
      ]
    },
    {
      "cell_type": "code",
      "execution_count": null,
      "id": "73237bb8-6d4b-4b6f-9081-dc8a68b2d211",
      "metadata": {
        "id": "73237bb8-6d4b-4b6f-9081-dc8a68b2d211"
      },
      "outputs": [
        {
          "ename": "",
          "evalue": "",
          "output_type": "error",
          "traceback": [
            "\u001b[1;31mFailed to start the Kernel. \n",
            "\u001b[1;31m0.00s - Debugger warning: It seems that frozen modules are being used, which may\n",
            "\u001b[1;31m0.00s - make the debugger miss breakpoints. Please pass -Xfrozen_modules=off\n",
            "\u001b[1;31m0.00s - to python to disable frozen modules.\n",
            "\u001b[1;31m0.00s - Note: Debugging will proceed. Set PYDEVD_DISABLE_FILE_VALIDATION=1 to disable this validation.\n",
            "\u001b[1;31mBad file descriptor (C:\\ci\\zeromq_1616055400030\\work\\src\\epoll.cpp:100). \n",
            "\u001b[1;31mView Jupyter <a href='command:jupyter.viewOutput'>log</a> for further details."
          ]
        }
      ],
      "source": [
        "data = pd.read_csv('202302_202302_주민등록인구및세대현황_월간.csv', encoding='cp949')"
      ]
    },
    {
      "cell_type": "code",
      "execution_count": null,
      "id": "ab41f812-c6cd-43b7-8965-b3d084a006ba",
      "metadata": {
        "id": "ab41f812-c6cd-43b7-8965-b3d084a006ba"
      },
      "outputs": [
        {
          "ename": "",
          "evalue": "",
          "output_type": "error",
          "traceback": [
            "\u001b[1;31mFailed to start the Kernel. \n",
            "\u001b[1;31m0.00s - Debugger warning: It seems that frozen modules are being used, which may\n",
            "\u001b[1;31m0.00s - make the debugger miss breakpoints. Please pass -Xfrozen_modules=off\n",
            "\u001b[1;31m0.00s - to python to disable frozen modules.\n",
            "\u001b[1;31m0.00s - Note: Debugging will proceed. Set PYDEVD_DISABLE_FILE_VALIDATION=1 to disable this validation.\n",
            "\u001b[1;31mBad file descriptor (C:\\ci\\zeromq_1616055400030\\work\\src\\epoll.cpp:100). \n",
            "\u001b[1;31mView Jupyter <a href='command:jupyter.viewOutput'>log</a> for further details."
          ]
        }
      ],
      "source": [
        "data.sample(5)"
      ]
    },
    {
      "cell_type": "markdown",
      "id": "59d1eef0-ff3d-4e42-8219-7bd0d60ff1fe",
      "metadata": {
        "id": "59d1eef0-ff3d-4e42-8219-7bd0d60ff1fe"
      },
      "source": [
        "### 2. '행정구역'컬럼을 행정구역명과 행정기관코드로 분리하여 'data' 데이터 프레임에 '행정구역' 컬럼에 행정구역명만 저장하고 5개의 데이터만 확인합니다."
      ]
    },
    {
      "cell_type": "code",
      "execution_count": null,
      "id": "131ed028-2e54-4170-bbab-1ede1830fa99",
      "metadata": {
        "id": "131ed028-2e54-4170-bbab-1ede1830fa99"
      },
      "outputs": [
        {
          "ename": "",
          "evalue": "",
          "output_type": "error",
          "traceback": [
            "\u001b[1;31mFailed to start the Kernel. \n",
            "\u001b[1;31m0.00s - Debugger warning: It seems that frozen modules are being used, which may\n",
            "\u001b[1;31m0.00s - make the debugger miss breakpoints. Please pass -Xfrozen_modules=off\n",
            "\u001b[1;31m0.00s - to python to disable frozen modules.\n",
            "\u001b[1;31m0.00s - Note: Debugging will proceed. Set PYDEVD_DISABLE_FILE_VALIDATION=1 to disable this validation.\n",
            "\u001b[1;31mBad file descriptor (C:\\ci\\zeromq_1616055400030\\work\\src\\epoll.cpp:100). \n",
            "\u001b[1;31mView Jupyter <a href='command:jupyter.viewOutput'>log</a> for further details."
          ]
        }
      ],
      "source": [
        "data['행정구역'] = data['행정구역'].str.split('(').str[0]"
      ]
    },
    {
      "cell_type": "code",
      "execution_count": null,
      "id": "bcc51492-85fe-43ac-a263-b85c65bbf048",
      "metadata": {
        "id": "bcc51492-85fe-43ac-a263-b85c65bbf048"
      },
      "outputs": [
        {
          "ename": "",
          "evalue": "",
          "output_type": "error",
          "traceback": [
            "\u001b[1;31mFailed to start the Kernel. \n",
            "\u001b[1;31m0.00s - Debugger warning: It seems that frozen modules are being used, which may\n",
            "\u001b[1;31m0.00s - make the debugger miss breakpoints. Please pass -Xfrozen_modules=off\n",
            "\u001b[1;31m0.00s - to python to disable frozen modules.\n",
            "\u001b[1;31m0.00s - Note: Debugging will proceed. Set PYDEVD_DISABLE_FILE_VALIDATION=1 to disable this validation.\n",
            "\u001b[1;31mBad file descriptor (C:\\ci\\zeromq_1616055400030\\work\\src\\epoll.cpp:100). \n",
            "\u001b[1;31mView Jupyter <a href='command:jupyter.viewOutput'>log</a> for further details."
          ]
        }
      ],
      "source": [
        "data.sample(5)"
      ]
    },
    {
      "cell_type": "markdown",
      "id": "deb3e798-0c28-4033-b386-c4dc3e3e3abb",
      "metadata": {
        "id": "deb3e798-0c28-4033-b386-c4dc3e3e3abb",
        "tags": []
      },
      "source": [
        "### 3. 'data' 데이터 프레임의 컬럼명을 행정구역, 총인구수, 세대수, 세대당인구, 남자, 여자, 남녀비율 로 변경하고 'data'데이터 프레임의 정보를 확인합니다."
      ]
    },
    {
      "cell_type": "code",
      "execution_count": null,
      "id": "51ffc490-40e0-43c2-a716-6add1cb02b25",
      "metadata": {
        "id": "51ffc490-40e0-43c2-a716-6add1cb02b25"
      },
      "outputs": [
        {
          "ename": "",
          "evalue": "",
          "output_type": "error",
          "traceback": [
            "\u001b[1;31mFailed to start the Kernel. \n",
            "\u001b[1;31m0.00s - Debugger warning: It seems that frozen modules are being used, which may\n",
            "\u001b[1;31m0.00s - make the debugger miss breakpoints. Please pass -Xfrozen_modules=off\n",
            "\u001b[1;31m0.00s - to python to disable frozen modules.\n",
            "\u001b[1;31m0.00s - Note: Debugging will proceed. Set PYDEVD_DISABLE_FILE_VALIDATION=1 to disable this validation.\n",
            "\u001b[1;31mBad file descriptor (C:\\ci\\zeromq_1616055400030\\work\\src\\epoll.cpp:100). \n",
            "\u001b[1;31mView Jupyter <a href='command:jupyter.viewOutput'>log</a> for further details."
          ]
        }
      ],
      "source": [
        "data.columns=['행정구역', '총인구수', '세대수', '세대당인구', '남자', '여자', '남녀비율']"
      ]
    },
    {
      "cell_type": "code",
      "execution_count": null,
      "id": "dc82c6c7-986b-44e3-8726-3662711b9a9b",
      "metadata": {
        "id": "dc82c6c7-986b-44e3-8726-3662711b9a9b"
      },
      "outputs": [
        {
          "ename": "",
          "evalue": "",
          "output_type": "error",
          "traceback": [
            "\u001b[1;31mFailed to start the Kernel. \n",
            "\u001b[1;31m0.00s - Debugger warning: It seems that frozen modules are being used, which may\n",
            "\u001b[1;31m0.00s - make the debugger miss breakpoints. Please pass -Xfrozen_modules=off\n",
            "\u001b[1;31m0.00s - to python to disable frozen modules.\n",
            "\u001b[1;31m0.00s - Note: Debugging will proceed. Set PYDEVD_DISABLE_FILE_VALIDATION=1 to disable this validation.\n",
            "\u001b[1;31mBad file descriptor (C:\\ci\\zeromq_1616055400030\\work\\src\\epoll.cpp:100). \n",
            "\u001b[1;31mView Jupyter <a href='command:jupyter.viewOutput'>log</a> for further details."
          ]
        }
      ],
      "source": [
        "data.info()"
      ]
    },
    {
      "cell_type": "markdown",
      "id": "dfd7ad84-1153-4bec-9a1b-79e0a010568a",
      "metadata": {
        "id": "dfd7ad84-1153-4bec-9a1b-79e0a010568a"
      },
      "source": [
        "### 4. 남녀비율 컬럼을 제거하고 'data' 데이터프레임 정보를 확인합니다."
      ]
    },
    {
      "cell_type": "code",
      "execution_count": null,
      "id": "d3cbdf56-cef2-4106-9815-e04866a9764f",
      "metadata": {
        "id": "d3cbdf56-cef2-4106-9815-e04866a9764f"
      },
      "outputs": [
        {
          "ename": "",
          "evalue": "",
          "output_type": "error",
          "traceback": [
            "\u001b[1;31mFailed to start the Kernel. \n",
            "\u001b[1;31m0.00s - Debugger warning: It seems that frozen modules are being used, which may\n",
            "\u001b[1;31m0.00s - make the debugger miss breakpoints. Please pass -Xfrozen_modules=off\n",
            "\u001b[1;31m0.00s - to python to disable frozen modules.\n",
            "\u001b[1;31m0.00s - Note: Debugging will proceed. Set PYDEVD_DISABLE_FILE_VALIDATION=1 to disable this validation.\n",
            "\u001b[1;31mBad file descriptor (C:\\ci\\zeromq_1616055400030\\work\\src\\epoll.cpp:100). \n",
            "\u001b[1;31mView Jupyter <a href='command:jupyter.viewOutput'>log</a> for further details."
          ]
        }
      ],
      "source": [
        "data = data.drop(columns='남녀비율')"
      ]
    },
    {
      "cell_type": "code",
      "execution_count": null,
      "id": "0508cede-209f-4a2b-b807-ea01a5178a27",
      "metadata": {
        "id": "0508cede-209f-4a2b-b807-ea01a5178a27"
      },
      "outputs": [
        {
          "ename": "",
          "evalue": "",
          "output_type": "error",
          "traceback": [
            "\u001b[1;31mFailed to start the Kernel. \n",
            "\u001b[1;31m0.00s - Debugger warning: It seems that frozen modules are being used, which may\n",
            "\u001b[1;31m0.00s - make the debugger miss breakpoints. Please pass -Xfrozen_modules=off\n",
            "\u001b[1;31m0.00s - to python to disable frozen modules.\n",
            "\u001b[1;31m0.00s - Note: Debugging will proceed. Set PYDEVD_DISABLE_FILE_VALIDATION=1 to disable this validation.\n",
            "\u001b[1;31mBad file descriptor (C:\\ci\\zeromq_1616055400030\\work\\src\\epoll.cpp:100). \n",
            "\u001b[1;31mView Jupyter <a href='command:jupyter.viewOutput'>log</a> for further details."
          ]
        }
      ],
      "source": [
        "data.info()"
      ]
    },
    {
      "cell_type": "markdown",
      "id": "147b443f-a476-49ce-b013-25f366b663d0",
      "metadata": {
        "id": "147b443f-a476-49ce-b013-25f366b663d0"
      },
      "source": [
        "### 5. 행정구역 컬럼의 ‘(’ ‘)’를 제거하고 시,구,동 컬럼을 만들어 분리해 넣고 세종특별자치시 지역의 값만 선택해서 'sejong' 데이터 프레임에 저장합니다."
      ]
    },
    {
      "cell_type": "code",
      "execution_count": null,
      "id": "460978f3-d360-4a12-9028-b51fd941b567",
      "metadata": {
        "id": "460978f3-d360-4a12-9028-b51fd941b567"
      },
      "outputs": [
        {
          "ename": "",
          "evalue": "",
          "output_type": "error",
          "traceback": [
            "\u001b[1;31mFailed to start the Kernel. \n",
            "\u001b[1;31m0.00s - Debugger warning: It seems that frozen modules are being used, which may\n",
            "\u001b[1;31m0.00s - make the debugger miss breakpoints. Please pass -Xfrozen_modules=off\n",
            "\u001b[1;31m0.00s - to python to disable frozen modules.\n",
            "\u001b[1;31m0.00s - Note: Debugging will proceed. Set PYDEVD_DISABLE_FILE_VALIDATION=1 to disable this validation.\n",
            "\u001b[1;31mBad file descriptor (C:\\ci\\zeromq_1616055400030\\work\\src\\epoll.cpp:100). \n",
            "\u001b[1;31mView Jupyter <a href='command:jupyter.viewOutput'>log</a> for further details."
          ]
        }
      ],
      "source": [
        "data.sample(10)"
      ]
    },
    {
      "cell_type": "code",
      "execution_count": null,
      "id": "1be27b2a-5d0a-4918-b6ba-96baa1490159",
      "metadata": {
        "id": "1be27b2a-5d0a-4918-b6ba-96baa1490159"
      },
      "outputs": [
        {
          "ename": "",
          "evalue": "",
          "output_type": "error",
          "traceback": [
            "\u001b[1;31mFailed to start the Kernel. \n",
            "\u001b[1;31m0.00s - Debugger warning: It seems that frozen modules are being used, which may\n",
            "\u001b[1;31m0.00s - make the debugger miss breakpoints. Please pass -Xfrozen_modules=off\n",
            "\u001b[1;31m0.00s - to python to disable frozen modules.\n",
            "\u001b[1;31m0.00s - Note: Debugging will proceed. Set PYDEVD_DISABLE_FILE_VALIDATION=1 to disable this validation.\n",
            "\u001b[1;31mBad file descriptor (C:\\ci\\zeromq_1616055400030\\work\\src\\epoll.cpp:100). \n",
            "\u001b[1;31mView Jupyter <a href='command:jupyter.viewOutput'>log</a> for further details."
          ]
        }
      ],
      "source": [
        "data['시'] = data['행정구역'].str.split(' ')\n",
        "\n",
        "result = data[data['시'] == '세종특별자치시']\n",
        "data.sample(20)"
      ]
    },
    {
      "cell_type": "markdown",
      "id": "fd18a967-884a-42a5-a6f2-5832170de717",
      "metadata": {
        "id": "fd18a967-884a-42a5-a6f2-5832170de717"
      },
      "source": [
        "### 6. 'sejong' 데이터 프레임에 NAN 값이 있다면 해당 행을 제거하고, 기존 인덱스 값은 제거하고 새로 인덱스를 부여하고 내용을 확인합니다."
      ]
    },
    {
      "cell_type": "code",
      "execution_count": null,
      "id": "67d3d975-380e-4514-8f30-88ebd70e0742",
      "metadata": {
        "id": "67d3d975-380e-4514-8f30-88ebd70e0742",
        "tags": []
      },
      "outputs": [
        {
          "ename": "",
          "evalue": "",
          "output_type": "error",
          "traceback": [
            "\u001b[1;31mFailed to start the Kernel. \n",
            "\u001b[1;31m0.00s - Debugger warning: It seems that frozen modules are being used, which may\n",
            "\u001b[1;31m0.00s - make the debugger miss breakpoints. Please pass -Xfrozen_modules=off\n",
            "\u001b[1;31m0.00s - to python to disable frozen modules.\n",
            "\u001b[1;31m0.00s - Note: Debugging will proceed. Set PYDEVD_DISABLE_FILE_VALIDATION=1 to disable this validation.\n",
            "\u001b[1;31mBad file descriptor (C:\\ci\\zeromq_1616055400030\\work\\src\\epoll.cpp:100). \n",
            "\u001b[1;31mView Jupyter <a href='command:jupyter.viewOutput'>log</a> for further details."
          ]
        }
      ],
      "source": [
        "data.sample(20)"
      ]
    },
    {
      "cell_type": "markdown",
      "id": "96a2cab9-acee-444f-8da4-829af5c43616",
      "metadata": {
        "id": "96a2cab9-acee-444f-8da4-829af5c43616"
      },
      "source": [
        "### 7. 총인구수, 남자, 여자 컬럼의 데이타 타입을 정수형으로 변경하고 변경내용을 확인합니다."
      ]
    },
    {
      "cell_type": "code",
      "execution_count": null,
      "id": "ba6210ba-7d87-44d2-bafe-ff5bdf93ec14",
      "metadata": {
        "id": "ba6210ba-7d87-44d2-bafe-ff5bdf93ec14"
      },
      "outputs": [
        {
          "ename": "",
          "evalue": "",
          "output_type": "error",
          "traceback": [
            "\u001b[1;31mFailed to start the Kernel. \n",
            "\u001b[1;31m0.00s - Debugger warning: It seems that frozen modules are being used, which may\n",
            "\u001b[1;31m0.00s - make the debugger miss breakpoints. Please pass -Xfrozen_modules=off\n",
            "\u001b[1;31m0.00s - to python to disable frozen modules.\n",
            "\u001b[1;31m0.00s - Note: Debugging will proceed. Set PYDEVD_DISABLE_FILE_VALIDATION=1 to disable this validation.\n",
            "\u001b[1;31mBad file descriptor (C:\\ci\\zeromq_1616055400030\\work\\src\\epoll.cpp:100). \n",
            "\u001b[1;31mView Jupyter <a href='command:jupyter.viewOutput'>log</a> for further details."
          ]
        }
      ],
      "source": []
    },
    {
      "cell_type": "code",
      "execution_count": null,
      "id": "54d88708-b438-4569-b518-0a3ba8d4e831",
      "metadata": {
        "id": "54d88708-b438-4569-b518-0a3ba8d4e831"
      },
      "outputs": [
        {
          "ename": "",
          "evalue": "",
          "output_type": "error",
          "traceback": [
            "\u001b[1;31mFailed to start the Kernel. \n",
            "\u001b[1;31m0.00s - Debugger warning: It seems that frozen modules are being used, which may\n",
            "\u001b[1;31m0.00s - make the debugger miss breakpoints. Please pass -Xfrozen_modules=off\n",
            "\u001b[1;31m0.00s - to python to disable frozen modules.\n",
            "\u001b[1;31m0.00s - Note: Debugging will proceed. Set PYDEVD_DISABLE_FILE_VALIDATION=1 to disable this validation.\n",
            "\u001b[1;31mBad file descriptor (C:\\ci\\zeromq_1616055400030\\work\\src\\epoll.cpp:100). \n",
            "\u001b[1;31mView Jupyter <a href='command:jupyter.viewOutput'>log</a> for further details."
          ]
        }
      ],
      "source": []
    },
    {
      "cell_type": "markdown",
      "id": "55b9bfcb-030a-4f7c-9da6-ab98f7ec7048",
      "metadata": {
        "id": "55b9bfcb-030a-4f7c-9da6-ab98f7ec7048"
      },
      "source": [
        "### 8. 읍면동별로 세종 인구를 차트로 표시합니다.(인구순 5개만)"
      ]
    },
    {
      "cell_type": "code",
      "execution_count": null,
      "id": "aa2478c9-6a94-46f8-a919-60ef9ef61cae",
      "metadata": {
        "id": "aa2478c9-6a94-46f8-a919-60ef9ef61cae"
      },
      "outputs": [
        {
          "ename": "",
          "evalue": "",
          "output_type": "error",
          "traceback": [
            "\u001b[1;31mFailed to start the Kernel. \n",
            "\u001b[1;31m0.00s - Debugger warning: It seems that frozen modules are being used, which may\n",
            "\u001b[1;31m0.00s - make the debugger miss breakpoints. Please pass -Xfrozen_modules=off\n",
            "\u001b[1;31m0.00s - to python to disable frozen modules.\n",
            "\u001b[1;31m0.00s - Note: Debugging will proceed. Set PYDEVD_DISABLE_FILE_VALIDATION=1 to disable this validation.\n",
            "\u001b[1;31mBad file descriptor (C:\\ci\\zeromq_1616055400030\\work\\src\\epoll.cpp:100). \n",
            "\u001b[1;31mView Jupyter <a href='command:jupyter.viewOutput'>log</a> for further details."
          ]
        }
      ],
      "source": []
    },
    {
      "cell_type": "code",
      "execution_count": null,
      "id": "c1d0613e-2634-4fe7-bbb0-fa42553ecdd5",
      "metadata": {
        "id": "c1d0613e-2634-4fe7-bbb0-fa42553ecdd5"
      },
      "outputs": [
        {
          "ename": "",
          "evalue": "",
          "output_type": "error",
          "traceback": [
            "\u001b[1;31mFailed to start the Kernel. \n",
            "\u001b[1;31m0.00s - Debugger warning: It seems that frozen modules are being used, which may\n",
            "\u001b[1;31m0.00s - make the debugger miss breakpoints. Please pass -Xfrozen_modules=off\n",
            "\u001b[1;31m0.00s - to python to disable frozen modules.\n",
            "\u001b[1;31m0.00s - Note: Debugging will proceed. Set PYDEVD_DISABLE_FILE_VALIDATION=1 to disable this validation.\n",
            "\u001b[1;31mBad file descriptor (C:\\ci\\zeromq_1616055400030\\work\\src\\epoll.cpp:100). \n",
            "\u001b[1;31mView Jupyter <a href='command:jupyter.viewOutput'>log</a> for further details."
          ]
        }
      ],
      "source": []
    },
    {
      "cell_type": "code",
      "execution_count": null,
      "id": "42d6b4b3-1916-4b0f-ba5b-5d995830dcfd",
      "metadata": {
        "id": "42d6b4b3-1916-4b0f-ba5b-5d995830dcfd",
        "tags": []
      },
      "outputs": [
        {
          "ename": "",
          "evalue": "",
          "output_type": "error",
          "traceback": [
            "\u001b[1;31mFailed to start the Kernel. \n",
            "\u001b[1;31m0.00s - Debugger warning: It seems that frozen modules are being used, which may\n",
            "\u001b[1;31m0.00s - make the debugger miss breakpoints. Please pass -Xfrozen_modules=off\n",
            "\u001b[1;31m0.00s - to python to disable frozen modules.\n",
            "\u001b[1;31m0.00s - Note: Debugging will proceed. Set PYDEVD_DISABLE_FILE_VALIDATION=1 to disable this validation.\n",
            "\u001b[1;31mBad file descriptor (C:\\ci\\zeromq_1616055400030\\work\\src\\epoll.cpp:100). \n",
            "\u001b[1;31mView Jupyter <a href='command:jupyter.viewOutput'>log</a> for further details."
          ]
        }
      ],
      "source": []
    },
    {
      "cell_type": "code",
      "execution_count": null,
      "id": "66cd7f2f-ae5f-4ab6-98d2-444139a81848",
      "metadata": {
        "id": "66cd7f2f-ae5f-4ab6-98d2-444139a81848"
      },
      "outputs": [
        {
          "ename": "",
          "evalue": "",
          "output_type": "error",
          "traceback": [
            "\u001b[1;31mFailed to start the Kernel. \n",
            "\u001b[1;31m0.00s - Debugger warning: It seems that frozen modules are being used, which may\n",
            "\u001b[1;31m0.00s - make the debugger miss breakpoints. Please pass -Xfrozen_modules=off\n",
            "\u001b[1;31m0.00s - to python to disable frozen modules.\n",
            "\u001b[1;31m0.00s - Note: Debugging will proceed. Set PYDEVD_DISABLE_FILE_VALIDATION=1 to disable this validation.\n",
            "\u001b[1;31mBad file descriptor (C:\\ci\\zeromq_1616055400030\\work\\src\\epoll.cpp:100). \n",
            "\u001b[1;31mView Jupyter <a href='command:jupyter.viewOutput'>log</a> for further details."
          ]
        }
      ],
      "source": []
    },
    {
      "cell_type": "markdown",
      "id": "63d84d92-2891-4c01-84e1-23a2a7d6a3eb",
      "metadata": {
        "id": "63d84d92-2891-4c01-84e1-23a2a7d6a3eb"
      },
      "source": [
        "### 9. Choropleth, geojson 등을 이용하여 세종특별자치시의 동별 인구수를 색상별로 지도에 나타내시오"
      ]
    },
    {
      "cell_type": "code",
      "execution_count": null,
      "id": "16619904-7423-4009-bb9a-e4c6ec3675d2",
      "metadata": {
        "id": "16619904-7423-4009-bb9a-e4c6ec3675d2",
        "tags": []
      },
      "outputs": [
        {
          "ename": "",
          "evalue": "",
          "output_type": "error",
          "traceback": [
            "\u001b[1;31mFailed to start the Kernel. \n",
            "\u001b[1;31m0.00s - Debugger warning: It seems that frozen modules are being used, which may\n",
            "\u001b[1;31m0.00s - make the debugger miss breakpoints. Please pass -Xfrozen_modules=off\n",
            "\u001b[1;31m0.00s - to python to disable frozen modules.\n",
            "\u001b[1;31m0.00s - Note: Debugging will proceed. Set PYDEVD_DISABLE_FILE_VALIDATION=1 to disable this validation.\n",
            "\u001b[1;31mBad file descriptor (C:\\ci\\zeromq_1616055400030\\work\\src\\epoll.cpp:100). \n",
            "\u001b[1;31mView Jupyter <a href='command:jupyter.viewOutput'>log</a> for further details."
          ]
        }
      ],
      "source": []
    },
    {
      "cell_type": "code",
      "execution_count": null,
      "id": "46826e8a-5119-4816-b534-f9b9bb07e2fa",
      "metadata": {
        "id": "46826e8a-5119-4816-b534-f9b9bb07e2fa"
      },
      "outputs": [
        {
          "ename": "",
          "evalue": "",
          "output_type": "error",
          "traceback": [
            "\u001b[1;31mFailed to start the Kernel. \n",
            "\u001b[1;31m0.00s - Debugger warning: It seems that frozen modules are being used, which may\n",
            "\u001b[1;31m0.00s - make the debugger miss breakpoints. Please pass -Xfrozen_modules=off\n",
            "\u001b[1;31m0.00s - to python to disable frozen modules.\n",
            "\u001b[1;31m0.00s - Note: Debugging will proceed. Set PYDEVD_DISABLE_FILE_VALIDATION=1 to disable this validation.\n",
            "\u001b[1;31mBad file descriptor (C:\\ci\\zeromq_1616055400030\\work\\src\\epoll.cpp:100). \n",
            "\u001b[1;31mView Jupyter <a href='command:jupyter.viewOutput'>log</a> for further details."
          ]
        }
      ],
      "source": []
    },
    {
      "cell_type": "code",
      "execution_count": null,
      "id": "9c7da872-d4fd-40ed-b102-e91d15792e35",
      "metadata": {
        "id": "9c7da872-d4fd-40ed-b102-e91d15792e35"
      },
      "outputs": [
        {
          "ename": "",
          "evalue": "",
          "output_type": "error",
          "traceback": [
            "\u001b[1;31mFailed to start the Kernel. \n",
            "\u001b[1;31m0.00s - Debugger warning: It seems that frozen modules are being used, which may\n",
            "\u001b[1;31m0.00s - make the debugger miss breakpoints. Please pass -Xfrozen_modules=off\n",
            "\u001b[1;31m0.00s - to python to disable frozen modules.\n",
            "\u001b[1;31m0.00s - Note: Debugging will proceed. Set PYDEVD_DISABLE_FILE_VALIDATION=1 to disable this validation.\n",
            "\u001b[1;31mBad file descriptor (C:\\ci\\zeromq_1616055400030\\work\\src\\epoll.cpp:100). \n",
            "\u001b[1;31mView Jupyter <a href='command:jupyter.viewOutput'>log</a> for further details."
          ]
        }
      ],
      "source": []
    }
  ],
  "metadata": {
    "colab": {
      "collapsed_sections": [
        "147b443f-a476-49ce-b013-25f366b663d0"
      ],
      "provenance": []
    },
    "kernelspec": {
      "display_name": "Python 3 (ipykernel)",
      "language": "python",
      "name": "python3"
    },
    "language_info": {
      "codemirror_mode": {
        "name": "ipython",
        "version": 3
      },
      "file_extension": ".py",
      "mimetype": "text/x-python",
      "name": "python",
      "nbconvert_exporter": "python",
      "pygments_lexer": "ipython3",
      "version": "3.11.5"
    }
  },
  "nbformat": 4,
  "nbformat_minor": 5
}
