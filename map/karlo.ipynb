{
 "cells": [
  {
   "cell_type": "code",
   "execution_count": 30,
   "metadata": {},
   "outputs": [],
   "source": [
    "# REST API 호출, 이미지 파일 처리에 필요한 라이브러리\n",
    "import requests\n",
    "import json\n",
    "import urllib\n",
    "from PIL import Image\n",
    "\n",
    "with open('key.json', 'r') as f:\n",
    "    key = json.load(f)\n",
    "\n",
    "REST_API_KEY = key['key']\n",
    "REST_API_KEY\n",
    "\n",
    "# 이미지 생성하기 요청\n",
    "def t2i(prompt, negative_prompt):\n",
    "    r = requests.post(\n",
    "        'https://api.kakaobrain.com/v2/inference/karlo/t2i',\n",
    "        json = {\n",
    "            'prompt': prompt,\n",
    "            'negative_prompt': negative_prompt\n",
    "        },\n",
    "        headers = {\n",
    "            'Authorization': f'KakaoAK {REST_API_KEY}',\n",
    "            'Content-Type': 'application/json'\n",
    "        }\n",
    "    )\n",
    "    # 응답 JSON 형식으로 변환\n",
    "    response = json.loads(r.content)\n",
    "    return response\n",
    "\n",
    "# 프롬프트에 사용할 제시어\n",
    "prompt = \"Delicious food\"\n",
    "negative_prompt = \"\"\n",
    "\n",
    "# 이미지 생성하기 REST API 호출\n",
    "response = t2i(prompt, negative_prompt)\n",
    "\n",
    "# 응답의 첫 번째 이미지 생성 결과 출력하기\n",
    "result = Image.open(urllib.request.urlopen(response.get(\"images\")[0].get(\"image\")))\n",
    "result.show()"
   ]
  }
 ],
 "metadata": {
  "kernelspec": {
   "display_name": "base",
   "language": "python",
   "name": "python3"
  },
  "language_info": {
   "codemirror_mode": {
    "name": "ipython",
    "version": 3
   },
   "file_extension": ".py",
   "mimetype": "text/x-python",
   "name": "python",
   "nbconvert_exporter": "python",
   "pygments_lexer": "ipython3",
   "version": "3.11.5"
  }
 },
 "nbformat": 4,
 "nbformat_minor": 2
}
