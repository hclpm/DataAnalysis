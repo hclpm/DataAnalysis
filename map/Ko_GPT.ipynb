{
 "cells": [
  {
   "cell_type": "code",
   "execution_count": null,
   "metadata": {},
   "outputs": [],
   "source": [
    "# KoGPT\n",
    "# coding=utf8\n",
    "# REST API 호출에 필요한 라이브러리\n",
    "import requests\n",
    "import json\n",
    "\n",
    "# [내 애플리케이션] > [앱 키] 에서 확인한 REST API 키 값 입력\n",
    "with open('key.json', 'r') as f:\n",
    "    key = json.load(f)\n",
    "\n",
    "REST_API_KEY = key['key']\n",
    "REST_API_KEY\n",
    "\n",
    "# KoGPT API 호출을 위한 메서드 선언\n",
    "# 각 파라미터 기본값으로 설정\n",
    "def kogpt_api(prompt, max_tokens = 1, temperature = 1.0, top_p = 1.0, n = 1):\n",
    "    r = requests.post(\n",
    "        'https://api.kakaobrain.com/v1/inference/kogpt/generation',\n",
    "        json = {\n",
    "            'prompt': prompt,\n",
    "            'max_tokens': max_tokens,\n",
    "            'temperature': temperature,\n",
    "            'top_p': top_p,\n",
    "            'n': n\n",
    "        },\n",
    "        headers = {\n",
    "            'Authorization': 'KakaoAK ' + REST_API_KEY,\n",
    "            'Content-Type': 'application/json'\n",
    "        }\n",
    "    )\n",
    "    # 응답 JSON 형식으로 변환\n",
    "    response = json.loads(r.content)\n",
    "    return response\n",
    "\n",
    "# KoGPT에게 전달할 명령어 구성\n",
    "prompt = '''Golf'''\n",
    "\n",
    "# 파라미터를 전달해 kogpt_api()메서드 호출\n",
    "response = kogpt_api(\n",
    "    prompt = prompt,\n",
    "    max_tokens = 32,\n",
    "    temperature = 1.0,\n",
    "    top_p = 1.0,\n",
    "    n = 3\n",
    ")\n",
    "\n",
    "response"
   ]
  }
 ],
 "metadata": {
  "language_info": {
   "name": "python"
  }
 },
 "nbformat": 4,
 "nbformat_minor": 2
}
